{
  "cells": [
    {
      "cell_type": "markdown",
      "source": [
        "#Question - 1"
      ],
      "metadata": {
        "id": "9duvDR_ZOFN2"
      }
    },
    {
      "cell_type": "code",
      "execution_count": 1,
      "metadata": {
        "id": "JGUROSv9KWUI"
      },
      "outputs": [],
      "source": [
        "import pandas as pd"
      ]
    },
    {
      "cell_type": "code",
      "execution_count": 2,
      "metadata": {
        "id": "gBqLrkU1GLAs"
      },
      "outputs": [],
      "source": [
        "from itertools import combinations"
      ]
    },
    {
      "cell_type": "code",
      "execution_count": 3,
      "metadata": {
        "id": "fv7rcwCnN1Pt"
      },
      "outputs": [],
      "source": [
        "#Fill NA with zeroes\n",
        "df = pd.read_csv('transaction1.csv',header=None)\n",
        "df = df.fillna(0)\n",
        "transactions = df.values.tolist()"
      ]
    },
    {
      "cell_type": "code",
      "execution_count": 4,
      "metadata": {
        "id": "S2HeepIQS2nj"
      },
      "outputs": [],
      "source": [
        "#Remove the zeroes from the transaction\n",
        "for i in range(0,len(transactions)):\n",
        "  while 0 in transactions[i]:\n",
        "    transactions[i].remove(0)"
      ]
    },
    {
      "cell_type": "code",
      "execution_count": 5,
      "metadata": {
        "colab": {
          "base_uri": "https://localhost:8080/"
        },
        "id": "emir3EZxgLS7",
        "outputId": "7993e8ef-1a86-4ffa-f598-c9629aa83549"
      },
      "outputs": [
        {
          "output_type": "execute_result",
          "data": {
            "text/plain": [
              "[['Bread', 'Milk'],\n",
              " ['Bread', 'Diapers', 'Jam', 'Eggs'],\n",
              " ['Milk', 'Diapers', 'Jam', 'Cola'],\n",
              " ['Bread', 'Milk', 'Diapers', 'Jam'],\n",
              " ['Bread', 'Milk', 'Diapers', 'Cola'],\n",
              " ['Bread', 'Milk'],\n",
              " ['Bread', 'Cola', 'Jam', 'Milk'],\n",
              " ['Milk', 'Bread', 'Jam', 'Cola'],\n",
              " ['Bread', 'Milk', 'Diapers', 'Jam'],\n",
              " ['Bread', 'Jam', 'Diapers']]"
            ]
          },
          "metadata": {},
          "execution_count": 5
        }
      ],
      "source": [
        "#Print the transactions\n",
        "transactions"
      ]
    },
    {
      "cell_type": "code",
      "source": [
        "N1 = len(transactions)"
      ],
      "metadata": {
        "id": "ugdGInAyNJ5M"
      },
      "execution_count": 6,
      "outputs": []
    },
    {
      "cell_type": "code",
      "execution_count": 7,
      "metadata": {
        "id": "CRekdrNTaYU7"
      },
      "outputs": [],
      "source": [
        "#Set the minimum support to 3\n",
        "s = 0.3"
      ]
    },
    {
      "cell_type": "code",
      "source": [
        "#Function to generate the Candidate 1-itemset\n",
        "def candidate_1_itemset():\n",
        "  candidates.append({})\n",
        "  #Mapping the items with their values\n",
        "  for l in transactions:\n",
        "    for x in l:\n",
        "      if x in candidates[0]:\n",
        "        candidates[0][x] += 1\n",
        "      else:\n",
        "        candidates[0][x] = 1\n",
        "  print(candidates[0])"
      ],
      "metadata": {
        "id": "RVQ7HOvpvA8o"
      },
      "execution_count": 8,
      "outputs": []
    },
    {
      "cell_type": "code",
      "source": [
        "#Function to generate the Candidate 2-itemset\n",
        "def candidate_2_itemset():\n",
        "  #Generate all combinations.\n",
        "  c2=list(combinations(frequentItemSets[0],2))\n",
        "  candidates.append({})\n",
        "  #Assign 0 to all possible combinations initially.\n",
        "  for x in c2:\n",
        "    candidates[1][x]=0\n",
        "  for subset in candidates[1]:\n",
        "    for i in range(0,len(transactions)):\n",
        "      #For each combination check if it is present in any of the transactions.\n",
        "      #If yes, increment the count of that combination.\n",
        "      if set(subset).issubset(set(transactions[i])):\n",
        "        candidates[1][subset]+=1\n",
        "  print(candidates[1])"
      ],
      "metadata": {
        "id": "aHPGR7HjvUKA"
      },
      "execution_count": 9,
      "outputs": []
    },
    {
      "cell_type": "code",
      "execution_count": 10,
      "metadata": {
        "id": "tVqqCOCzf7Oj"
      },
      "outputs": [],
      "source": [
        "#Function to generate frequent itemset from the candidate set.\n",
        "def frequentItemSetGeneration(C):\n",
        "  L = [x for x in C if (C[x]/N1)>=s]\n",
        "  #Sort is done to maintain the lexicographic order.\n",
        "  L.sort()\n",
        "  return L"
      ]
    },
    {
      "cell_type": "code",
      "execution_count": 11,
      "metadata": {
        "id": "Hlhsn3vXeGet"
      },
      "outputs": [],
      "source": [
        "#Function to generate candidate itemset from the previous frequent itemset.\n",
        "def candidateSetGeneration(L):\n",
        "  C = {}\n",
        "  for i in range(0,len(L)):\n",
        "    for j in range(i+1,len(L)):\n",
        "      #Check if the first few items of the combination is same.\n",
        "      if L[i][0:len(L[i])-1] == L[j][0:len(L[j])-1]:\n",
        "        #Join the items\n",
        "        string = set(list(L[i]) + list(L[j]))\n",
        "        #Generate possible subsets for the pruning step.\n",
        "        sets = combinations(string,len(L[i]))\n",
        "        flag = 0\n",
        "        for each in sets:\n",
        "          lis = list(each)\n",
        "          lis.sort()\n",
        "          #If any of the subset is not present in L, then that particular set should be pruned.\n",
        "          if tuple(lis) not in L:\n",
        "            flag=1\n",
        "            break\n",
        "        #If the set is not pruned, add it to the candidate set with count 0.\n",
        "        if flag == 0:\n",
        "          string = list(string)\n",
        "          string.sort()\n",
        "          C[tuple(string)]=0\n",
        "  #For each subset check if it is present in any of the transactions.\n",
        "  #If yes, increment the count of that subset.\n",
        "  for subset in C:\n",
        "    for i in range(0,len(transactions)):\n",
        "      if set(subset).issubset(set(transactions[i])):\n",
        "        C[subset]+=1\n",
        "  return C"
      ]
    },
    {
      "cell_type": "code",
      "source": [
        "#candidates store all possible candidate itemsets along with the support count.\n",
        "#Each k-item candidate set is a dictionary.\n",
        "candidates = []\n",
        "#frequentItemSets store the frequent itemsets.\n",
        "#Each k-item frequent set is a list.\n",
        "frequentItemSets = []\n",
        "\n",
        "#Candidate 1-itemset generation:\n",
        "print('Candidate 1-itemset:')\n",
        "candidate_1_itemset()\n",
        "\n",
        "#Frequent 1-itemset:\n",
        "print('Frequent 1-itemset:')\n",
        "frequentItemSets.append(frequentItemSetGeneration(candidates[0]))\n",
        "print(frequentItemSets[0])\n",
        "\n",
        "#Candidate 2-itemset:\n",
        "print('Candidate 2-itemset:')\n",
        "candidate_2_itemset()\n",
        "\n",
        "#Frequent 2-itemset:\n",
        "print('Frequent 2-itemset:')\n",
        "frequentItemSets.append(frequentItemSetGeneration(candidates[1]))\n",
        "print(frequentItemSets[1])\n",
        "\n",
        "#Generating k-itemsets where k starts from 3.\n",
        "flag = True\n",
        "i = 0\n",
        "while flag:\n",
        "  i = i+1\n",
        "  #Start from finding candidate 3-itemset and frequent 3-itemset until frequent itemset becomes [].\n",
        "  print('Candidate ',i+2,'-itemset:')\n",
        "  candidates.append(candidateSetGeneration(frequentItemSets[i]))\n",
        "  print(candidates[i+1])\n",
        "  print('Frequent ',i+2,'-itemset:')\n",
        "  freq = frequentItemSetGeneration(candidates[i+1])\n",
        "  #When frquent itemset becomes [], exit from the loop. So, set flag = false.\n",
        "  if freq == []:\n",
        "    flag = False\n",
        "  frequentItemSets.append(freq)\n",
        "  print(frequentItemSets[i+1])"
      ],
      "metadata": {
        "colab": {
          "base_uri": "https://localhost:8080/"
        },
        "id": "nw5m9aiD6vOJ",
        "outputId": "6ef91cc8-ed31-4d11-a0ff-7c4090e21757"
      },
      "execution_count": 16,
      "outputs": [
        {
          "output_type": "stream",
          "name": "stdout",
          "text": [
            "Candidate 1-itemset:\n",
            "{'Bread': 9, 'Milk': 8, 'Diapers': 6, 'Jam': 7, 'Eggs': 1, 'Cola': 4}\n",
            "Frequent 1-itemset:\n",
            "['Bread', 'Cola', 'Diapers', 'Jam', 'Milk']\n",
            "Candidate 2-itemset:\n",
            "{('Bread', 'Cola'): 3, ('Bread', 'Diapers'): 5, ('Bread', 'Jam'): 6, ('Bread', 'Milk'): 7, ('Cola', 'Diapers'): 2, ('Cola', 'Jam'): 3, ('Cola', 'Milk'): 4, ('Diapers', 'Jam'): 5, ('Diapers', 'Milk'): 4, ('Jam', 'Milk'): 5}\n",
            "Frequent 2-itemset:\n",
            "[('Bread', 'Cola'), ('Bread', 'Diapers'), ('Bread', 'Jam'), ('Bread', 'Milk'), ('Cola', 'Jam'), ('Cola', 'Milk'), ('Diapers', 'Jam'), ('Diapers', 'Milk'), ('Jam', 'Milk')]\n",
            "Candidate  3 -itemset:\n",
            "{('Bread', 'Cola', 'Jam'): 2, ('Bread', 'Cola', 'Milk'): 3, ('Bread', 'Diapers', 'Jam'): 4, ('Bread', 'Diapers', 'Milk'): 3, ('Bread', 'Jam', 'Milk'): 4, ('Cola', 'Jam', 'Milk'): 3, ('Diapers', 'Jam', 'Milk'): 3}\n",
            "Frequent  3 -itemset:\n",
            "[('Bread', 'Cola', 'Milk'), ('Bread', 'Diapers', 'Jam'), ('Bread', 'Diapers', 'Milk'), ('Bread', 'Jam', 'Milk'), ('Cola', 'Jam', 'Milk'), ('Diapers', 'Jam', 'Milk')]\n",
            "Candidate  4 -itemset:\n",
            "{('Bread', 'Diapers', 'Jam', 'Milk'): 2}\n",
            "Frequent  4 -itemset:\n",
            "[]\n"
          ]
        }
      ]
    },
    {
      "cell_type": "code",
      "source": [
        "#Frequent Item Sets:\n",
        "f=open(\"Frequent Item Sets.txt\",\"w\")\n",
        "for i in range(0,len(frequentItemSets)):\n",
        "    f.write(\"%s => %s\\n\" %('L'+str(i+1) ,str(frequentItemSets[i])))\n",
        "       \n",
        "f.close()   \n",
        "print(frequentItemSets)"
      ],
      "metadata": {
        "colab": {
          "base_uri": "https://localhost:8080/"
        },
        "id": "XO71_Crqr-Sm",
        "outputId": "64018dd4-1871-448e-9a17-b67ac9e43e51"
      },
      "execution_count": 42,
      "outputs": [
        {
          "output_type": "stream",
          "name": "stdout",
          "text": [
            "[['Bread', 'Cola', 'Diapers', 'Jam', 'Milk'], [('Bread', 'Cola'), ('Bread', 'Diapers'), ('Bread', 'Jam'), ('Bread', 'Milk'), ('Cola', 'Jam'), ('Cola', 'Milk'), ('Diapers', 'Jam'), ('Diapers', 'Milk'), ('Jam', 'Milk')], [('Bread', 'Cola', 'Milk'), ('Bread', 'Diapers', 'Jam'), ('Bread', 'Diapers', 'Milk'), ('Bread', 'Jam', 'Milk'), ('Cola', 'Jam', 'Milk'), ('Diapers', 'Jam', 'Milk')], []]\n"
          ]
        }
      ]
    },
    {
      "cell_type": "code",
      "source": [
        "def association(Total_candidate,L,C,conf):\n",
        "    A={}\n",
        "    for i in L:\n",
        "         for j in range(1,len(i)):\n",
        "             for combination in combinations(i,j):\n",
        "                 s=set(combination)\n",
        "                 l=set(i)\n",
        "                 subset2=l.difference(s)\n",
        "                 l_s=tuple(sorted(subset2))\n",
        "                 if len(l_s)==1:\n",
        "                    l_s=l_s[0]\n",
        "                 A[tuple(s),l_s]=C[i]/Total_candidate[l_s]  \n",
        "                 if A[tuple(s),l_s]<conf:\n",
        "                      del A[tuple(s),l_s]\n",
        "    for i in A:\n",
        "      print(i[0],\"=>\",i[1],\":\",A[i])\n",
        "     \n",
        "    return A"
      ],
      "metadata": {
        "id": "DTVJq35_tmOJ"
      },
      "execution_count": 35,
      "outputs": []
    },
    {
      "cell_type": "code",
      "source": [
        "conf=0.7  \n",
        "#association rules\n",
        "C = {}\n",
        "for i in range(0,len(candidates)):\n",
        "  C.update(candidates[i])\n",
        "A={}\n",
        "for i in range(1,len(candidates)):\n",
        "  A.update(association(C,frequentItemSets[i],candidates[i],conf))\n",
        "\n",
        "f=open(\"Association Rules.txt\",\"w\")\n",
        "for rule in A:\n",
        "    f.write(\"%s => %s : %f\\n\" %(str(rule[0]) ,str(rule[1]),A[rule]))\n",
        "       \n",
        "f.close()        "
      ],
      "metadata": {
        "colab": {
          "base_uri": "https://localhost:8080/"
        },
        "id": "b5vlNA19uLFK",
        "outputId": "2d22f9b5-f5ac-42b6-bbdf-1c3adddc9e28"
      },
      "execution_count": 36,
      "outputs": [
        {
          "output_type": "stream",
          "name": "stdout",
          "text": [
            "('Bread',) => Cola : 0.75\n",
            "('Bread',) => Diapers : 0.8333333333333334\n",
            "('Bread',) => Jam : 0.8571428571428571\n",
            "('Bread',) => Milk : 0.875\n",
            "('Milk',) => Bread : 0.7777777777777778\n",
            "('Jam',) => Cola : 0.75\n",
            "('Milk',) => Cola : 1.0\n",
            "('Diapers',) => Jam : 0.7142857142857143\n",
            "('Jam',) => Diapers : 0.8333333333333334\n",
            "('Milk',) => Jam : 0.7142857142857143\n",
            "('Bread',) => ('Cola', 'Milk') : 0.75\n",
            "('Milk',) => ('Bread', 'Cola') : 1.0\n",
            "('Bread', 'Milk') => Cola : 0.75\n",
            "('Bread',) => ('Diapers', 'Jam') : 0.8\n",
            "('Jam',) => ('Bread', 'Diapers') : 0.8\n",
            "('Bread',) => ('Diapers', 'Milk') : 0.75\n",
            "('Bread',) => ('Jam', 'Milk') : 0.8\n",
            "('Jam',) => ('Cola', 'Milk') : 0.75\n",
            "('Milk',) => ('Cola', 'Jam') : 1.0\n",
            "('Jam', 'Milk') => Cola : 0.75\n",
            "('Jam',) => ('Diapers', 'Milk') : 0.75\n"
          ]
        }
      ]
    }
  ],
  "metadata": {
    "colab": {
      "provenance": []
    },
    "kernelspec": {
      "display_name": "Python 3",
      "name": "python3"
    },
    "language_info": {
      "name": "python"
    }
  },
  "nbformat": 4,
  "nbformat_minor": 0
}
